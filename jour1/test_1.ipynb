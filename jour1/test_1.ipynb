{
 "cells": [
  {
   "cell_type": "markdown",
   "id": "31608ea1",
   "metadata": {},
   "source": [
    "# 1. Python Quickstart - Hackerrate 1"
   ]
  },
  {
   "cell_type": "markdown",
   "id": "0afe6e7d-715a-4985-915e-20d85df7b803",
   "metadata": {},
   "source": [
    "### Say \"Hello, World!\" With Python"
   ]
  },
  {
   "cell_type": "code",
   "execution_count": 2,
   "id": "bed07f8c-8835-4f6a-8f24-8dad803a6487",
   "metadata": {},
   "outputs": [
    {
     "name": "stdout",
     "output_type": "stream",
     "text": [
      "Hello, World!\n"
     ]
    }
   ],
   "source": [
    "my_string = \"Hello, World!\"\n",
    "print(my_string)"
   ]
  },
  {
   "cell_type": "markdown",
   "id": "c68e4dc1-39ee-4892-8612-c260dd385e9b",
   "metadata": {},
   "source": [
    "### Arithmetic Operators"
   ]
  },
  {
   "cell_type": "code",
   "execution_count": 1,
   "id": "ea095665-aac6-4999-9b43-66df2b9ee048",
   "metadata": {},
   "outputs": [
    {
     "name": "stdin",
     "output_type": "stream",
     "text": [
      " 4\n",
      " 8\n"
     ]
    },
    {
     "name": "stdout",
     "output_type": "stream",
     "text": [
      "12\n",
      "-4\n",
      "32\n"
     ]
    }
   ],
   "source": [
    "    a = int(input())\n",
    "    b = int(input())\n",
    "    print(a + b)\n",
    "    print(a - b)\n",
    "    print(a * b)"
   ]
  },
  {
   "cell_type": "markdown",
   "id": "5b8b2570-1567-41e0-bb2c-595ab9ee0fe3",
   "metadata": {},
   "source": [
    "### Python: Division"
   ]
  },
  {
   "cell_type": "code",
   "execution_count": 2,
   "id": "946fcbb4-9bea-476f-ad89-58750f337967",
   "metadata": {},
   "outputs": [
    {
     "name": "stdin",
     "output_type": "stream",
     "text": [
      " 5\n",
      " 9\n"
     ]
    },
    {
     "name": "stdout",
     "output_type": "stream",
     "text": [
      "0\n",
      "0.5555555555555556\n"
     ]
    }
   ],
   "source": [
    "    a = int(input())\n",
    "    b = int(input())\n",
    "\n",
    "    print(a // b)\n",
    "\n",
    "    print(a / b)"
   ]
  },
  {
   "cell_type": "markdown",
   "id": "f782bcc0-721e-4223-8e6a-9a7e5e618c7d",
   "metadata": {},
   "source": [
    "### Loops"
   ]
  },
  {
   "cell_type": "code",
   "execution_count": 3,
   "id": "427f2931-7fb5-4a13-bba9-7e6b163e0ca2",
   "metadata": {},
   "outputs": [
    {
     "name": "stdin",
     "output_type": "stream",
     "text": [
      " 5\n"
     ]
    },
    {
     "name": "stdout",
     "output_type": "stream",
     "text": [
      "0\n",
      "1\n",
      "4\n",
      "9\n",
      "16\n"
     ]
    }
   ],
   "source": [
    "n = int(input())\n",
    "\n",
    "for i in range(n):\n",
    "    print(i ** 2)"
   ]
  },
  {
   "cell_type": "markdown",
   "id": "0b9f7f54-bc13-4a81-838f-1fab448d224d",
   "metadata": {},
   "source": [
    "### Write a variable"
   ]
  },
  {
   "cell_type": "code",
   "execution_count": 5,
   "id": "3674fd5a-8a44-4b1e-b7aa-aa47c724bc13",
   "metadata": {},
   "outputs": [
    {
     "name": "stdin",
     "output_type": "stream",
     "text": [
      " 4\n"
     ]
    },
    {
     "name": "stdout",
     "output_type": "stream",
     "text": [
      "True\n"
     ]
    }
   ],
   "source": [
    "def is_leap(year):\n",
    "    if year % 4 == 0:  \n",
    "        if year % 100 == 0:  \n",
    "            if year % 400 == 0: \n",
    "                return True\n",
    "            else:\n",
    "                return False\n",
    "        else:\n",
    "            return True\n",
    "    else:\n",
    "        return False\n",
    "\n",
    "year = int(input())\n",
    "print(is_leap(year))"
   ]
  },
  {
   "cell_type": "markdown",
   "id": "5f38d92d-2b81-43ad-ab91-2acdedefaa4d",
   "metadata": {},
   "source": [
    "### List Comprehensions"
   ]
  },
  {
   "cell_type": "code",
   "execution_count": 6,
   "id": "cd3bf200-aef4-4082-8a4e-ee5aaec47384",
   "metadata": {},
   "outputs": [
    {
     "name": "stdin",
     "output_type": "stream",
     "text": [
      " 4\n",
      " 5\n",
      " 6\n",
      " 7\n"
     ]
    },
    {
     "name": "stdout",
     "output_type": "stream",
     "text": [
      "[[0, 0, 0], [0, 0, 1], [0, 0, 2], [0, 0, 3], [0, 0, 4], [0, 0, 5], [0, 0, 6], [0, 1, 0], [0, 1, 1], [0, 1, 2], [0, 1, 3], [0, 1, 4], [0, 1, 5], [0, 2, 0], [0, 2, 1], [0, 2, 2], [0, 2, 3], [0, 2, 4], [0, 2, 6], [0, 3, 0], [0, 3, 1], [0, 3, 2], [0, 3, 3], [0, 3, 5], [0, 3, 6], [0, 4, 0], [0, 4, 1], [0, 4, 2], [0, 4, 4], [0, 4, 5], [0, 4, 6], [0, 5, 0], [0, 5, 1], [0, 5, 3], [0, 5, 4], [0, 5, 5], [0, 5, 6], [1, 0, 0], [1, 0, 1], [1, 0, 2], [1, 0, 3], [1, 0, 4], [1, 0, 5], [1, 1, 0], [1, 1, 1], [1, 1, 2], [1, 1, 3], [1, 1, 4], [1, 1, 6], [1, 2, 0], [1, 2, 1], [1, 2, 2], [1, 2, 3], [1, 2, 5], [1, 2, 6], [1, 3, 0], [1, 3, 1], [1, 3, 2], [1, 3, 4], [1, 3, 5], [1, 3, 6], [1, 4, 0], [1, 4, 1], [1, 4, 3], [1, 4, 4], [1, 4, 5], [1, 4, 6], [1, 5, 0], [1, 5, 2], [1, 5, 3], [1, 5, 4], [1, 5, 5], [1, 5, 6], [2, 0, 0], [2, 0, 1], [2, 0, 2], [2, 0, 3], [2, 0, 4], [2, 0, 6], [2, 1, 0], [2, 1, 1], [2, 1, 2], [2, 1, 3], [2, 1, 5], [2, 1, 6], [2, 2, 0], [2, 2, 1], [2, 2, 2], [2, 2, 4], [2, 2, 5], [2, 2, 6], [2, 3, 0], [2, 3, 1], [2, 3, 3], [2, 3, 4], [2, 3, 5], [2, 3, 6], [2, 4, 0], [2, 4, 2], [2, 4, 3], [2, 4, 4], [2, 4, 5], [2, 4, 6], [2, 5, 1], [2, 5, 2], [2, 5, 3], [2, 5, 4], [2, 5, 5], [2, 5, 6], [3, 0, 0], [3, 0, 1], [3, 0, 2], [3, 0, 3], [3, 0, 5], [3, 0, 6], [3, 1, 0], [3, 1, 1], [3, 1, 2], [3, 1, 4], [3, 1, 5], [3, 1, 6], [3, 2, 0], [3, 2, 1], [3, 2, 3], [3, 2, 4], [3, 2, 5], [3, 2, 6], [3, 3, 0], [3, 3, 2], [3, 3, 3], [3, 3, 4], [3, 3, 5], [3, 3, 6], [3, 4, 1], [3, 4, 2], [3, 4, 3], [3, 4, 4], [3, 4, 5], [3, 4, 6], [3, 5, 0], [3, 5, 1], [3, 5, 2], [3, 5, 3], [3, 5, 4], [3, 5, 5], [3, 5, 6], [4, 0, 0], [4, 0, 1], [4, 0, 2], [4, 0, 4], [4, 0, 5], [4, 0, 6], [4, 1, 0], [4, 1, 1], [4, 1, 3], [4, 1, 4], [4, 1, 5], [4, 1, 6], [4, 2, 0], [4, 2, 2], [4, 2, 3], [4, 2, 4], [4, 2, 5], [4, 2, 6], [4, 3, 1], [4, 3, 2], [4, 3, 3], [4, 3, 4], [4, 3, 5], [4, 3, 6], [4, 4, 0], [4, 4, 1], [4, 4, 2], [4, 4, 3], [4, 4, 4], [4, 4, 5], [4, 4, 6], [4, 5, 0], [4, 5, 1], [4, 5, 2], [4, 5, 3], [4, 5, 4], [4, 5, 5], [4, 5, 6]]\n"
     ]
    }
   ],
   "source": [
    "if __name__ == '__main__':\n",
    "    x = int(input())\n",
    "    y = int(input())\n",
    "    z = int(input())\n",
    "    n = int(input())\n",
    "\n",
    "\n",
    "coordinates = [[i, j, k] for i in range(x + 1) for j in range(y + 1) for k in range(z + 1) if (i + j + k) != n]\n",
    "\n",
    "print(coordinates)"
   ]
  },
  {
   "cell_type": "markdown",
   "id": "710be8b3-0aac-41f0-beb7-a33de7a1ba71",
   "metadata": {},
   "source": [
    "### Find the Runner-Up Score!"
   ]
  },
  {
   "cell_type": "code",
   "execution_count": 17,
   "id": "d0f447bc-a60f-4ea8-9295-de81008c28a5",
   "metadata": {},
   "outputs": [
    {
     "name": "stdin",
     "output_type": "stream",
     "text": [
      " 5\n",
      " 15\n"
     ]
    },
    {
     "ename": "ValueError",
     "evalue": "max() arg is an empty sequence",
     "output_type": "error",
     "traceback": [
      "\u001b[0;31m---------------------------------------------------------------------------\u001b[0m",
      "\u001b[0;31mValueError\u001b[0m                                Traceback (most recent call last)",
      "Cell \u001b[0;32mIn[17], line 6\u001b[0m\n\u001b[1;32m      3\u001b[0m arr \u001b[38;5;241m=\u001b[39m \u001b[38;5;28mlist\u001b[39m(\u001b[38;5;28mmap\u001b[39m(\u001b[38;5;28mint\u001b[39m, \u001b[38;5;28minput\u001b[39m()\u001b[38;5;241m.\u001b[39msplit()))\n\u001b[1;32m      5\u001b[0m max_score \u001b[38;5;241m=\u001b[39m \u001b[38;5;28mmax\u001b[39m(arr)\n\u001b[0;32m----> 6\u001b[0m runner_up_score \u001b[38;5;241m=\u001b[39m \u001b[38;5;28;43mmax\u001b[39;49m\u001b[43m(\u001b[49m\u001b[43m[\u001b[49m\u001b[43mscore\u001b[49m\u001b[43m \u001b[49m\u001b[38;5;28;43;01mfor\u001b[39;49;00m\u001b[43m \u001b[49m\u001b[43mscore\u001b[49m\u001b[43m \u001b[49m\u001b[38;5;129;43;01min\u001b[39;49;00m\u001b[43m \u001b[49m\u001b[43marr\u001b[49m\u001b[43m \u001b[49m\u001b[38;5;28;43;01mif\u001b[39;49;00m\u001b[43m \u001b[49m\u001b[43mscore\u001b[49m\u001b[43m \u001b[49m\u001b[38;5;241;43m!=\u001b[39;49m\u001b[43m \u001b[49m\u001b[43mmax_score\u001b[49m\u001b[43m]\u001b[49m\u001b[43m)\u001b[49m\n\u001b[1;32m      8\u001b[0m \u001b[38;5;28mprint\u001b[39m(runner_up_score)\n",
      "\u001b[0;31mValueError\u001b[0m: max() arg is an empty sequence"
     ]
    }
   ],
   "source": [
    "if __name__ == '__main__':\n",
    "    n = int(input())\n",
    "    arr = list(map(int, input().split()))\n",
    "    \n",
    "    max_score = max(arr)\n",
    "    runner_up_score = max([score for score in arr if score != max_score])\n",
    "    \n",
    "    print(runner_up_score)"
   ]
  },
  {
   "cell_type": "markdown",
   "id": "d1a0cbd4-7a3a-42c1-b2e2-6132dc8d3df2",
   "metadata": {},
   "source": [
    "### Nested Lists"
   ]
  },
  {
   "cell_type": "code",
   "execution_count": 13,
   "id": "5c590fde-5172-4c91-83ac-131fc474015b",
   "metadata": {},
   "outputs": [
    {
     "name": "stdin",
     "output_type": "stream",
     "text": [
      " 5\n",
      " 8\n",
      " 6\n",
      " 8\n",
      " 5\n",
      " 2\n",
      " 3\n",
      " 3\n",
      " 3\n",
      " 6\n",
      " 5\n"
     ]
    },
    {
     "name": "stdout",
     "output_type": "stream",
     "text": [
      "6\n",
      "8\n"
     ]
    }
   ],
   "source": [
    "if __name__ == '__main__':\n",
    "    students = []\n",
    "    for _ in range(int(input())):\n",
    "        name = input()\n",
    "        score = float(input())\n",
    "        students.append([name, score])\n",
    "\n",
    "    students.sort(key=lambda x: x[1])\n",
    "\n",
    "    second_lowest_score = None\n",
    "    for i in range(1, len(students)):\n",
    "        if students[i][1] > students[i - 1][1]:\n",
    "            second_lowest_score = students[i][1]\n",
    "            break\n",
    "\n",
    "    second_lowest_names = [student[0] for student in students if student[1] == second_lowest_score]\n",
    "\n",
    "    second_lowest_names.sort()\n",
    "    for name in second_lowest_names:\n",
    "        print(name)"
   ]
  },
  {
   "cell_type": "markdown",
   "id": "321307c4-de87-4c74-8b1c-3609ab881b49",
   "metadata": {},
   "source": [
    "### Finding the percentage"
   ]
  },
  {
   "cell_type": "code",
   "execution_count": 21,
   "id": "24a7ed4f-ad3c-4dac-ab36-8910ba331857",
   "metadata": {},
   "outputs": [
    {
     "name": "stdin",
     "output_type": "stream",
     "text": [
      " 200\n",
      " 400\n",
      " 900\n",
      " 1\n",
      " 2\n",
      " 3\n",
      " 4\n",
      " 5\n",
      " 6\n",
      " z\n",
      " a\n",
      " e\n",
      " r\n",
      " t\n",
      " y\n",
      " u\n",
      " i\n",
      " 6\n",
      " 9\n",
      " 7\n",
      " 4\n",
      " \n"
     ]
    },
    {
     "ename": "ValueError",
     "evalue": "not enough values to unpack (expected at least 1, got 0)",
     "output_type": "error",
     "traceback": [
      "\u001b[0;31m---------------------------------------------------------------------------\u001b[0m",
      "\u001b[0;31mValueError\u001b[0m                                Traceback (most recent call last)",
      "Cell \u001b[0;32mIn[21], line 6\u001b[0m\n\u001b[1;32m      3\u001b[0m student_marks \u001b[38;5;241m=\u001b[39m {}\n\u001b[1;32m      5\u001b[0m \u001b[38;5;28;01mfor\u001b[39;00m _ \u001b[38;5;129;01min\u001b[39;00m \u001b[38;5;28mrange\u001b[39m(n):\n\u001b[0;32m----> 6\u001b[0m     name, \u001b[38;5;241m*\u001b[39mline \u001b[38;5;241m=\u001b[39m \u001b[38;5;28minput\u001b[39m()\u001b[38;5;241m.\u001b[39msplit()\n\u001b[1;32m      7\u001b[0m     scores \u001b[38;5;241m=\u001b[39m \u001b[38;5;28mlist\u001b[39m(\u001b[38;5;28mmap\u001b[39m(\u001b[38;5;28mfloat\u001b[39m, line))\n\u001b[1;32m      8\u001b[0m     student_marks[name] \u001b[38;5;241m=\u001b[39m scores\n",
      "\u001b[0;31mValueError\u001b[0m: not enough values to unpack (expected at least 1, got 0)"
     ]
    }
   ],
   "source": [
    "if __name__ == '__main__':\n",
    "    n = int(input())\n",
    "    student_marks = {}\n",
    "    \n",
    "    for _ in range(n):\n",
    "        name, *line = input().split()\n",
    "        scores = list(map(float, line))\n",
    "        student_marks[name] = scores\n",
    "    \n",
    "    query_name = input()\n",
    "    \n",
    "    query_scores = student_marks[query_name]\n",
    "    average_score = sum(query_scores) / len(query_scores)\n",
    "    \n",
    "    print(\"{:.2f}\".format(average_score))\n"
   ]
  },
  {
   "cell_type": "markdown",
   "id": "f3669d13-c9ef-4a94-815e-4ef9f0060e0b",
   "metadata": {},
   "source": [
    "### XML 1 - Find the Score"
   ]
  },
  {
   "cell_type": "code",
   "execution_count": 24,
   "id": "6610a541-e9d0-4504-98b5-c40b2de018c1",
   "metadata": {},
   "outputs": [
    {
     "ename": "ParseError",
     "evalue": "no element found: line 1, column 0 (<string>)",
     "output_type": "error",
     "traceback": [
      "Traceback \u001b[0;36m(most recent call last)\u001b[0m:\n",
      "\u001b[0m  File \u001b[1;32m~/.local/lib/python3.10/site-packages/IPython/core/interactiveshell.py:3550\u001b[0m in \u001b[1;35mrun_code\u001b[0m\n    exec(code_obj, self.user_global_ns, self.user_ns)\u001b[0m\n",
      "\u001b[0m  Cell \u001b[1;32mIn[24], line 16\u001b[0m\n    tree = etree.ElementTree(etree.fromstring(xml))\u001b[0m\n",
      "\u001b[0;36m  File \u001b[0;32m/usr/lib/python3.10/xml/etree/ElementTree.py:1343\u001b[0;36m in \u001b[0;35mXML\u001b[0;36m\n\u001b[0;31m    return parser.close()\u001b[0;36m\n",
      "\u001b[0;36m  File \u001b[0;32m<string>\u001b[0;36m\u001b[0m\n\u001b[0;31mParseError\u001b[0m\u001b[0;31m:\u001b[0m no element found: line 1, column 0\n"
     ]
    }
   ],
   "source": [
    "import sys\n",
    "import xml.etree.ElementTree as etree\n",
    "\n",
    "\n",
    "def get_attr_number(node):\n",
    "    score = len(node.attrib)\n",
    "    \n",
    "    for child in node:\n",
    "        score += get_attr_number(child)\n",
    "    \n",
    "    return score\n",
    "\n",
    "if __name__ == '__main__':\n",
    "    sys.stdin.readline()\n",
    "    xml = sys.stdin.read()\n",
    "    tree = etree.ElementTree(etree.fromstring(xml))\n",
    "    root = tree.getroot()\n",
    "    print(get_attr_number(root))"
   ]
  },
  {
   "cell_type": "code",
   "execution_count": null,
   "id": "4fcf6419-73ac-4f9d-a45b-731f7b36d287",
   "metadata": {},
   "outputs": [],
   "source": []
  },
  {
   "cell_type": "code",
   "execution_count": null,
   "id": "8f97cf6f-2982-480e-b120-6928cb5175a6",
   "metadata": {},
   "outputs": [],
   "source": []
  },
  {
   "cell_type": "code",
   "execution_count": null,
   "id": "1109580b-bc41-4c6b-bace-87221e133d37",
   "metadata": {},
   "outputs": [],
   "source": []
  },
  {
   "cell_type": "code",
   "execution_count": null,
   "id": "258bd502-ef00-4e2f-b2ab-61879c7690b6",
   "metadata": {},
   "outputs": [],
   "source": []
  },
  {
   "cell_type": "code",
   "execution_count": null,
   "id": "1229616a-fbf7-4d7e-b259-040e9534c0d1",
   "metadata": {},
   "outputs": [],
   "source": []
  },
  {
   "cell_type": "code",
   "execution_count": null,
   "id": "3d434ae5-805c-4ba4-a289-0b947808e965",
   "metadata": {},
   "outputs": [],
   "source": []
  }
 ],
 "metadata": {
  "kernelspec": {
   "display_name": "Python 3 (ipykernel)",
   "language": "python",
   "name": "python3"
  },
  "language_info": {
   "codemirror_mode": {
    "name": "ipython",
    "version": 3
   },
   "file_extension": ".py",
   "mimetype": "text/x-python",
   "name": "python",
   "nbconvert_exporter": "python",
   "pygments_lexer": "ipython3",
   "version": "3.10.12"
  }
 },
 "nbformat": 4,
 "nbformat_minor": 5
}
